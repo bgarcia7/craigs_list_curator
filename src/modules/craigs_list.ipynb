{
 "cells": [
  {
   "cell_type": "code",
   "execution_count": 7,
   "metadata": {},
   "outputs": [
    {
     "name": "stdout",
     "output_type": "stream",
     "text": [
      "The autoreload extension is already loaded. To reload it, use:\n",
      "  %reload_ext autoreload\n"
     ]
    }
   ],
   "source": [
    "%load_ext autoreload\n",
    "%autoreload 2"
   ]
  },
  {
   "cell_type": "code",
   "execution_count": 2,
   "metadata": {},
   "outputs": [
    {
     "name": "stdout",
     "output_type": "stream",
     "text": [
      "https://sfbay.craigslist.org/search/sss?query=keyboard&max_price=50\n",
      "-----> Scraping:  keyboard\n",
      "-----> Successfully pulled 689 results for keyboard\n"
     ]
    }
   ],
   "source": [
    "from config import config\n",
    "from craigs_list_scraper import CraigsListScraper\n",
    "from craigs_list_result_scorer import ResultScorer\n",
    "from craigs_list_curator_email_client import CraigsListCuratorEmailClient\n",
    "import numpy as np\n",
    "\n",
    "\n",
    "# scrape information (harvest)\n",
    "scraper = CraigsListScraper()\n",
    "info = c.scrape(config, max_results=1000)\n",
    "\n",
    "# get top results (process)\n",
    "scorer = ResultScorer()\n",
    "result_scores  = np.array([scorer.get_score(config, result) for result in info])\n",
    "result_ixs = np.argsort(result_scores)[::-1][:config['num_results']]\n",
    "results = info[result_ixs]\n",
    "\n",
    "# email results (deliver value)\n",
    "client = CraigsListCuratorEmailClient()        \n",
    "client.email_results(results, email='brandon@miraai.com')"
   ]
  },
  {
   "cell_type": "code",
   "execution_count": 3,
   "metadata": {},
   "outputs": [],
   "source": [
    "if __name__ == \"__main__\":\n",
    "        \n",
    "    # scrape information (harvest)\n",
    "    scraper = CraigsListScraper()\n",
    "    info = c.scrape(config, max_results=1000)\n",
    "\n",
    "    # get top results (process)\n",
    "    scorer = ResultScorer()\n",
    "    result_scores  = np.array([scorer.get_score(config, result) for result in info])\n",
    "    result_ixs = np.argsort(result_scores)[::-1][:config['num_results']]\n",
    "    results = info[result_ixs]\n",
    "\n",
    "    # email results (deliver value)\n",
    "    client = CraigsListCuratorEmailClient()        \n",
    "    client.email_results(results, email='brandon@miraai.com')"
   ]
  },
  {
   "cell_type": "code",
   "execution_count": 4,
   "metadata": {},
   "outputs": [],
   "source": []
  },
  {
   "cell_type": "code",
   "execution_count": 5,
   "metadata": {
    "collapsed": true
   },
   "outputs": [],
   "source": []
  },
  {
   "cell_type": "code",
   "execution_count": 6,
   "metadata": {},
   "outputs": [],
   "source": []
  },
  {
   "cell_type": "code",
   "execution_count": null,
   "metadata": {
    "collapsed": true
   },
   "outputs": [],
   "source": []
  }
 ],
 "metadata": {
  "kernelspec": {
   "display_name": "Python 2",
   "language": "python",
   "name": "python2"
  },
  "language_info": {
   "codemirror_mode": {
    "name": "ipython",
    "version": 2
   },
   "file_extension": ".py",
   "mimetype": "text/x-python",
   "name": "python",
   "nbconvert_exporter": "python",
   "pygments_lexer": "ipython2",
   "version": "2.7.13"
  }
 },
 "nbformat": 4,
 "nbformat_minor": 2
}
